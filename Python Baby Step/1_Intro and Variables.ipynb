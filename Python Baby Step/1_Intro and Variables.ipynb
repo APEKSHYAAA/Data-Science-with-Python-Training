{
 "cells": [
  {
   "cell_type": "markdown",
   "metadata": {},
   "source": [
    "# Python Baby Step\n",
    "\n",
    "## 1. Intro\n",
    "\n",
    "\n",
    "## Before we start\n",
    "\n",
    "### From human readable to \"machine readable\"\n",
    "\n",
    "<img align=\"center\" width=\"200\" height=\"200\" src=\"https://external-content.duckduckgo.com/iu/?u=https%3A%2F%2F9scroob.com%2Fstorage%2Fapp%2Fpublic%2Fposts%2FAugust2020%2FR7x8lT7hLnwk2PUGc5m3.jpg&f=1&nofb=1&ipt=aed2b709e25473b81a930ac7b5dcdd51ec2372712e27f5344aafa818e6fefd5c&ipo=images\"/>\n",
    "\n",
    "Suppose you’re an avid reader who’s in the mood for some mind-bending literature from Bhagavad Gita.\n",
    "\n",
    "Valuable life lessons can be learned from Bhagavad Gita- We all know.\n",
    "\n",
    "But if you can’t understand Sanskrit, a book written in Sanskrit won’t get you far. \n",
    "\n",
    "Your two options are to find someone to translate the whole book into English or\n",
    "\n",
    "get a Sanskrit-speaking friend to read the Sanskrit version line-by-line and verbally translate (or interpret) it into English/Nepali for you.\n",
    "\n",
    "\n",
    "\n",
    "#### Low level languages\n",
    "\n",
    "<img align=\"center\" src=\"pics/lowlevel.png\"/>\n",
    "<br style=\"clear:left;\"/>\n",
    "\n",
    "#### Compiled languages\n",
    "\n",
    "<img align=\"left\" src=\"pics/compiled.png\"/>\n",
    "<br style=\"clear:left;\"/>\n",
    "\n",
    "* BASIC\n",
    "* C, C++\n",
    "* Pascal\n",
    "\n",
    "#### Interpreted languages\n",
    "\n",
    "<img align=\"left\" src=\"pics/interpreted.png\"/>\n",
    "<br style=\"clear:left;\"/>\n",
    "\n",
    "* Javascript\n",
    "* PHP\n",
    "\n",
    "* Compiled languages like C or C++ take the first approach. The translator in the above analogy is a computer program called a compiler. The compiler takes the source code you write as input and translates all of it into instructions in machine code.\n",
    "\n",
    "* Interpreted languages take the second approach. As the program is running, the interpreter reads the source code line by line and translates it into instructions for the processor.\n",
    "\n",
    "#### Python\n",
    "\n",
    "Something from both worlds:\n",
    "\n",
    "<img align=\"left\" src=\"pics/precompiled.png\"/>\n",
    "<br style=\"clear:left;\"/>\n",
    "\n",
    "Python compiled or interpreted? Like most things, it’s a little complicated. Python is both compiled and interpreted, depending on how you use it.\n",
    "\n",
    "It can be run as an interpreted language in interactive mode, or it can compile your source code to a binary and then execute the binary.\n",
    "\n",
    "> with  .py file it act as compiler\n",
    "\n",
    "> with >>> in termine act as interpreter\n",
    "\n",
    "### Meet the designer: Guido van Rossum\n",
    "\n",
    "<img align=\"left\" height=\"600\" width=\"300\" src=\"pics/Guido_van_Rossum_OSCON_2006.jpg\"/>\n",
    "<br style=\"clear:left;\"/>\n",
    "\n",
    "### Origin of the name:\n",
    "\n",
    "<img align=\"left\" width=\"600\" height=\"400\" src=\"pics/HolyGrail034.jpg\"/>\n",
    "<br style=\"clear:left;\"/>\n",
    "\n",
    "---\n",
    "\n",
    "## Everyone's first lines\n",
    "\n",
    "I don't want to ruin the moment and do it for you, so follow the instructions below:\n",
    "\n",
    "- Hit [Enter] on the following cell\n",
    "- Position your cursor to the first empty line\n",
    "- Type the `print` word following with parenthesis (`()`) and type \"Hello World\" in quotation inside of the parenthesis.\n",
    "- Hit [Ctrl] + [Enter] to run your code"
   ]
  },
  {
   "cell_type": "code",
   "execution_count": null,
   "metadata": {},
   "outputs": [],
   "source": [
    "# Before we start: \n",
    "# This line is a comment. It is useful for others to understand your code,\n",
    "# so use it often. Every text after the # character is comment.\n"
   ]
  },
  {
   "cell_type": "markdown",
   "metadata": {},
   "source": [
    "__Let's do some math too!__\n",
    "\n",
    "Try out the following operators:\n",
    "- `+, -, *, /`\n",
    "- `%, **`"
   ]
  },
  {
   "cell_type": "code",
   "execution_count": null,
   "metadata": {},
   "outputs": [],
   "source": [
    "1 + 1"
   ]
  },
  {
   "cell_type": "markdown",
   "metadata": {},
   "source": [
    "Try out the followings logical operators:\n",
    "- `==, >, >=, <=, <`\n",
    "- `not, and, or`  \n",
    "\n",
    "and logical values:\n",
    "- `True, False`"
   ]
  },
  {
   "cell_type": "code",
   "execution_count": 1,
   "metadata": {},
   "outputs": [
    {
     "data": {
      "text/plain": [
       "True"
      ]
     },
     "execution_count": 1,
     "metadata": {},
     "output_type": "execute_result"
    }
   ],
   "source": [
    "True or False"
   ]
  },
  {
   "cell_type": "markdown",
   "metadata": {},
   "source": [
    "----\n",
    "\n"
   ]
  },
  {
   "cell_type": "markdown",
   "metadata": {},
   "source": [
    "Now Let's learn about Variables\n",
    "\n",
    "\n",
    "## 2. Variables"
   ]
  },
  {
   "cell_type": "markdown",
   "metadata": {},
   "source": [
    "## Variables\n",
    "\n",
    "What if we want to store some values? \n",
    "\n",
    "We use the assignment (`=`) operator!\n",
    "\n",
    "- __`a`__ is a number"
   ]
  },
  {
   "cell_type": "code",
   "execution_count": 2,
   "metadata": {},
   "outputs": [
    {
     "name": "stdout",
     "output_type": "stream",
     "text": [
      "3\n",
      "<class 'int'>\n"
     ]
    }
   ],
   "source": [
    "a = 3\n",
    "print(a)\n",
    "print(type(a))"
   ]
  },
  {
   "cell_type": "code",
   "execution_count": 3,
   "metadata": {},
   "outputs": [
    {
     "name": "stdout",
     "output_type": "stream",
     "text": [
      "3.14\n",
      "<class 'float'>\n"
     ]
    }
   ],
   "source": [
    "a = 3.14\n",
    "print(a)\n",
    "print(type(a))"
   ]
  },
  {
   "cell_type": "code",
   "execution_count": 4,
   "metadata": {},
   "outputs": [
    {
     "name": "stdout",
     "output_type": "stream",
     "text": [
      "True\n",
      "<class 'bool'>\n"
     ]
    }
   ],
   "source": [
    "a = True # False\n",
    "print(a)\n",
    "print(type(a))"
   ]
  },
  {
   "cell_type": "code",
   "execution_count": 5,
   "metadata": {},
   "outputs": [
    {
     "name": "stdout",
     "output_type": "stream",
     "text": [
      "a\n",
      "<class 'str'>\n"
     ]
    }
   ],
   "source": [
    "a = 'a'\n",
    "print(a)\n",
    "print(type(a))"
   ]
  },
  {
   "cell_type": "code",
   "execution_count": 12,
   "metadata": {},
   "outputs": [
    {
     "name": "stdout",
     "output_type": "stream",
     "text": [
      "spam\n",
      "spam and hams\n",
      "spam'\n",
      "spam\n",
      "sausage\n",
      "spam\n",
      "spam\n",
      "eggs\n",
      "and spam\n",
      "<class 'str'>\n"
     ]
    }
   ],
   "source": [
    "a = 'spam'\n",
    "print(a)\n",
    "# or\n",
    "a = \"spam and hams\"\n",
    "print(a)\n",
    "# or\n",
    "a = '''spam'\n",
    "spam\n",
    "sausage'''\n",
    "print(a)\n",
    "# or\n",
    "a = \"\"\"spam\n",
    "spam\n",
    "eggs\n",
    "and spam\"\"\"\n",
    "print(a)\n",
    "print(type(a))"
   ]
  },
  {
   "cell_type": "markdown",
   "metadata": {},
   "source": [
    "## Escape Character"
   ]
  },
  {
   "cell_type": "markdown",
   "metadata": {},
   "source": [
    "__According to strings:__  \n",
    "There are some so called __`escape character`__s. They always starts with a __\\\\__ following by an another character, like:\n",
    "- `\\n`\n",
    "- `\\t`\n",
    "- `\\r`\n",
    "- `\\'`\n",
    "- `\\\"`\n",
    "\n",
    "Try them out!"
   ]
  },
  {
   "cell_type": "code",
   "execution_count": 8,
   "metadata": {},
   "outputs": [
    {
     "name": "stdout",
     "output_type": "stream",
     "text": [
      "sp\n",
      "am\n"
     ]
    }
   ],
   "source": [
    "a = 'sp\\nam'\n",
    "print(a)"
   ]
  },
  {
   "cell_type": "markdown",
   "metadata": {},
   "source": [
    "## Naming conventions\n",
    "\n",
    "* starts with a letter\n",
    "* available characters:\n",
    "    * a-z\n",
    "    * A-Z\n",
    "    * 0-9\n",
    "    * _"
   ]
  },
  {
   "cell_type": "code",
   "execution_count": 10,
   "metadata": {},
   "outputs": [],
   "source": [
    "spam_is_a_valid_variable_name = True"
   ]
  },
  {
   "cell_type": "code",
   "execution_count": 13,
   "metadata": {},
   "outputs": [
    {
     "ename": "SyntaxError",
     "evalue": "invalid decimal literal (1703955772.py, line 1)",
     "output_type": "error",
     "traceback": [
      "\u001b[0;36m  Cell \u001b[0;32mIn[13], line 1\u001b[0;36m\u001b[0m\n\u001b[0;31m    9spam_is_not = True\u001b[0m\n\u001b[0m    ^\u001b[0m\n\u001b[0;31mSyntaxError\u001b[0m\u001b[0;31m:\u001b[0m invalid decimal literal\n"
     ]
    }
   ],
   "source": [
    "9spam_is_not = True"
   ]
  },
  {
   "cell_type": "code",
   "execution_count": null,
   "metadata": {},
   "outputs": [],
   "source": []
  }
 ],
 "metadata": {
  "anaconda-cloud": {},
  "kernelspec": {
   "display_name": "Python 3 (ipykernel)",
   "language": "python",
   "name": "python3"
  },
  "language_info": {
   "codemirror_mode": {
    "name": "ipython",
    "version": 3
   },
   "file_extension": ".py",
   "mimetype": "text/x-python",
   "name": "python",
   "nbconvert_exporter": "python",
   "pygments_lexer": "ipython3",
   "version": "3.10.10"
  }
 },
 "nbformat": 4,
 "nbformat_minor": 1
}
