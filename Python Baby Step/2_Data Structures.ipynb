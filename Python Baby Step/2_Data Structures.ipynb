{
 "cells": [
  {
   "cell_type": "markdown",
   "id": "2df4f9c1",
   "metadata": {},
   "source": [
    "We completed Intro and Variables now lets learn the better way of organizing and storing data in a computer's memory"
   ]
  },
  {
   "cell_type": "markdown",
   "id": "13bd8542",
   "metadata": {},
   "source": [
    "# 3. Data Structures\n",
    "\n",
    "* A data structure is a way of organizing and storing data in a computer's memory to efficiently perform operations and manipulate the data. \n",
    "\n",
    "* It defines how the data is organized, accessed, and manipulated, and provides a set of operations or methods to perform various tasks on the data.\n",
    "\n",
    "* Data structures are fundamental building blocks in programming and play a crucial role in solving computational problems. \n",
    "\n",
    "* They help in optimizing data access, storage, and manipulation, leading to efficient algorithms and better program performance.\n",
    "\n"
   ]
  },
  {
   "cell_type": "code",
   "execution_count": 3,
   "id": "8d8dccbd",
   "metadata": {},
   "outputs": [],
   "source": [
    "import random\n"
   ]
  },
  {
   "cell_type": "markdown",
   "id": "3b14baf5",
   "metadata": {},
   "source": [
    "## Strings\n",
    "\n",
    "String is a sequence of characters enclosed within single quotes (' '), double quotes (\" \"), or triple quotes (''' '''). Strings are used to represent textual data and are one of the built-in data types in Python."
   ]
  },
  {
   "cell_type": "code",
   "execution_count": 6,
   "id": "71b31081",
   "metadata": {},
   "outputs": [
    {
     "name": "stdout",
     "output_type": "stream",
     "text": [
      "Hello, World!\n"
     ]
    }
   ],
   "source": [
    "message = 'Hello, World!'\n",
    "name = \"Alice\"\n",
    "paragraph = '''This is a multi-line\n",
    "string using triple quotes.'''\n",
    "\n",
    "\n",
    "print(message)"
   ]
  },
  {
   "cell_type": "code",
   "execution_count": 7,
   "id": "371d8dcb",
   "metadata": {},
   "outputs": [
    {
     "name": "stdout",
     "output_type": "stream",
     "text": [
      "And Saint Atila raised the hand grenade up on high, saying,\n",
      "'Oh, Lord, bless this thy hand grenade that with it thou mayest blow\n",
      "thy enemies to tiny bits, in thy mercy.' And the Lord did grin, and\n",
      "people did feast upon the lambs, and sloths, and carp, and anchovies,\n",
      "and orangutans, and breakfast cereals, and fruit bats, and large --\n",
      "F-strings: orangutans, breakfast cereals, fruit bats\n"
     ]
    }
   ],
   "source": [
    "# String formatting:\n",
    "first_meal = 'orangutans'\n",
    "second_meal = 'breakfast cereals'\n",
    "third_meal = 'fruit bats'\n",
    "\n",
    "print('And Saint Atila raised the hand grenade up on high, saying,\\n'\n",
    "      + '\\'Oh, Lord, bless this thy hand '\n",
    "      + 'grenade that with it thou mayest blow')\n",
    "    \n",
    "print('thy enemies to tiny bits, in thy mercy.\\' '\n",
    "      'And the Lord did grin, and\\n'\n",
    "      'people did feast upon the lambs, '\n",
    "      'and sloths, and carp, and anchovies,\\n'\n",
    "      'and {0}, and {1}, and {2}, and large --'.format(first_meal, second_meal, third_meal))\n",
    "\n",
    "print(f'F-strings: {first_meal}, {second_meal}, {third_meal}')"
   ]
  },
  {
   "cell_type": "markdown",
   "id": "576bb847",
   "metadata": {},
   "source": [
    "### Slicing\n",
    "Slicing is an operation that allows you to extract a portion of a string (or any sequence) by specifying a start and end index. The resulting sliced portion is returned as a new string.\n"
   ]
  },
  {
   "cell_type": "markdown",
   "id": "01fa158c",
   "metadata": {},
   "source": [
    "The syntax for slicing a string in Python is as follows:\n",
    "    \n",
    "```string[start:end:step]```\n"
   ]
  },
  {
   "cell_type": "markdown",
   "id": "33c7729e",
   "metadata": {},
   "source": [
    "start: The starting index (inclusive) from where the slicing begins. If not specified, it defaults to the beginning of the string.\n",
    "\n",
    "end: The ending index (exclusive) where the slicing ends. If not specified, it defaults to the end of the string.\n",
    "\n",
    "step: The step size or the increment between indices. If not specified, it defaults to 1.\n"
   ]
  },
  {
   "cell_type": "code",
   "execution_count": 8,
   "id": "5078e86e",
   "metadata": {},
   "outputs": [
    {
     "name": "stdout",
     "output_type": "stream",
     "text": [
      "Hello\n",
      "World!\n",
      "Hlo\n",
      "Hl r!\n",
      "!dlroW ,olleH\n"
     ]
    }
   ],
   "source": [
    "message = \"Hello, World!\"\n",
    "\n",
    "# Slicing from index 0 to 5 (exclusive)\n",
    "substring1 = message[0:5]\n",
    "print(substring1)  # Output: Hello\n",
    "\n",
    "# Slicing from index 7 to the end of the string\n",
    "substring2 = message[7:]\n",
    "print(substring2)  # Output: World!\n",
    "\n",
    "# Slicing from the beginning to index 5 (exclusive) with a step of 2\n",
    "substring3 = message[:5:2]\n",
    "print(substring3)  # Output: Hlo\n",
    "\n",
    "# Slicing the entire string with a step of 3\n",
    "substring4 = message[::3]\n",
    "print(substring4)  # Output: Hl r!\n",
    "\n",
    "# Reversing the string using slicing with a step of -1\n",
    "reversed_message = message[::-1]\n",
    "print(reversed_message)  # Output: !dlroW ,olleH\n"
   ]
  },
  {
   "cell_type": "markdown",
   "id": "47756c6b",
   "metadata": {},
   "source": [
    "-----\n",
    "\n",
    "example_string = \"This is an example string\"\n",
    "\n",
    "\n",
    "                     \n",
    "----                     \n"
   ]
  },
  {
   "cell_type": "markdown",
   "id": "2df720e9",
   "metadata": {},
   "source": [
    "Try:\n",
    "print(example_string[-12:-7]\n",
    "\n"
   ]
  },
  {
   "cell_type": "markdown",
   "id": "e61b7246",
   "metadata": {},
   "source": [
    "# Complex data structures"
   ]
  },
  {
   "cell_type": "markdown",
   "id": "48570b91",
   "metadata": {},
   "source": [
    "# List\n",
    "\n",
    "Lists are what you think: they store multiple kinds of data.\n",
    "    \n",
    "\n",
    "\n",
    "* A list in Python is a built-in data structure that represents an ordered collection of items. \n",
    "\n",
    "* It is mutable, which means you can modify its elements after it has been created.\n",
    "\n",
    "* Lists can contain elements of different data types such as integers, floats, strings, or even other lists.\n",
    "\n"
   ]
  },
  {
   "cell_type": "code",
   "execution_count": 16,
   "id": "2712eeb5",
   "metadata": {},
   "outputs": [],
   "source": [
    "# Creating a list of integers\n",
    "numbers = [1, 2, 3, 4, 5]"
   ]
  },
  {
   "cell_type": "code",
   "execution_count": 17,
   "id": "6ab16f87",
   "metadata": {},
   "outputs": [
    {
     "name": "stdout",
     "output_type": "stream",
     "text": [
      "1\n",
      "3\n"
     ]
    }
   ],
   "source": [
    "# Accessing elements of a list\n",
    "print(numbers[0])  # Output: 1\n",
    "print(numbers[2])  # Output: 3\n"
   ]
  },
  {
   "cell_type": "code",
   "execution_count": 18,
   "id": "33a21fb9",
   "metadata": {},
   "outputs": [
    {
     "name": "stdout",
     "output_type": "stream",
     "text": [
      "[1, 10, 3, 4, 5]\n"
     ]
    }
   ],
   "source": [
    "\n",
    "# Modifying elements of a list\n",
    "numbers[1] = 10\n",
    "print(numbers)  # Output: [1, 10, 3, 4, 5]\n"
   ]
  },
  {
   "cell_type": "markdown",
   "id": "ec499e94",
   "metadata": {},
   "source": [
    "See here how 2 in second place is changed to 10"
   ]
  },
  {
   "cell_type": "code",
   "execution_count": 19,
   "id": "5a29d9d7",
   "metadata": {},
   "outputs": [
    {
     "name": "stdout",
     "output_type": "stream",
     "text": [
      "[1, 10, 3, 4, 5, 6]\n"
     ]
    }
   ],
   "source": [
    "\n",
    "# Adding elements to a list\n",
    "numbers.append(6)\n",
    "print(numbers)  # Output: [1, 10, 3, 4, 5, 6]\n"
   ]
  },
  {
   "cell_type": "code",
   "execution_count": 20,
   "id": "6954a8d4",
   "metadata": {},
   "outputs": [
    {
     "name": "stdout",
     "output_type": "stream",
     "text": [
      "[1, 10, 4, 5, 6]\n"
     ]
    }
   ],
   "source": [
    "\n",
    "# Removing elements from a list\n",
    "numbers.remove(3)\n",
    "print(numbers)  # Output: [1, 10, 4, 5, 6]\n"
   ]
  },
  {
   "cell_type": "code",
   "execution_count": 21,
   "id": "7018ed44",
   "metadata": {},
   "outputs": [
    {
     "name": "stdout",
     "output_type": "stream",
     "text": [
      "5\n"
     ]
    }
   ],
   "source": [
    "\n",
    "# Length of a list\n",
    "print(len(numbers))  # Output: 5\n"
   ]
  },
  {
   "cell_type": "code",
   "execution_count": 22,
   "id": "1f64b0dc",
   "metadata": {},
   "outputs": [
    {
     "name": "stdout",
     "output_type": "stream",
     "text": [
      "1\n",
      "10\n",
      "4\n",
      "5\n",
      "6\n"
     ]
    }
   ],
   "source": [
    "\n",
    "# Looping through a list\n",
    "for number in numbers:\n",
    "    print(number)\n"
   ]
  },
  {
   "cell_type": "markdown",
   "id": "e678ae4c",
   "metadata": {},
   "source": [
    "# List Compressions\n",
    "\n",
    "* List comprehension is a concise and powerful feature in Python that allows you to create new lists by performing operations on existing lists or other iterable objects. \n",
    "\n",
    "* It provides a compact and readable way to generate lists in a single line of code."
   ]
  },
  {
   "cell_type": "markdown",
   "id": "4d708576",
   "metadata": {},
   "source": [
    "### Syntax\n",
    "\n",
    "new_list = [expression for item in iterable if condition]\n"
   ]
  },
  {
   "cell_type": "markdown",
   "id": "7be10dce",
   "metadata": {},
   "source": [
    "Here's a breakdown of the components:\n",
    "\n",
    "* new_list: This is the new list that will be created using list comprehension.\n",
    "    \n",
    "* expression: It represents the operation or transformation to be performed on each item in the iterable. It defines how the elements will be modified or calculated to form the new list.\n",
    "\n",
    "* item: It is the variable that takes on each item in the iterable, one at a time.\n",
    "    \n",
    "* iterable: It is an existing list, tuple, string, or any other iterable object that provides the items to be processed by the list comprehension.\n",
    "\n",
    "* condition (optional): It allows you to include an if statement to filter the elements from the iterable. Only the items that satisfy the condition will be included in the new list.\n"
   ]
  },
  {
   "cell_type": "code",
   "execution_count": 3,
   "id": "4c125c54",
   "metadata": {},
   "outputs": [
    {
     "name": "stdout",
     "output_type": "stream",
     "text": [
      "[1, 4, 9, 16, 25]\n"
     ]
    }
   ],
   "source": [
    "numbers = [1, 2, 3, 4, 5]\n",
    "squares = [num ** 2 for num in numbers]\n",
    "print(squares)"
   ]
  },
  {
   "cell_type": "markdown",
   "id": "d5b154a1",
   "metadata": {},
   "source": [
    "In this example, the expression num ** 2 calculates the square of each number (num) in the numbers list. The result is a new list (squares) that contains the squares of the numbers.\n",
    "\n"
   ]
  },
  {
   "cell_type": "code",
   "execution_count": null,
   "id": "6e6e159f",
   "metadata": {},
   "outputs": [],
   "source": []
  },
  {
   "cell_type": "markdown",
   "id": "98f5bb55",
   "metadata": {},
   "source": [
    "# Tuples\n",
    "\n",
    "* Tuples are similar to lists but are immutable, meaning their elements cannot be modified once they are defined. \n",
    "\n",
    "* They are often used to represent a collection of related values that should not be changed.\n",
    "\n",
    "\n",
    "\n"
   ]
  },
  {
   "cell_type": "code",
   "execution_count": 24,
   "id": "e0de8086",
   "metadata": {},
   "outputs": [],
   "source": [
    "# Creating a tuple\n",
    "my_tuple = (1, 2, 3, 4, 5)"
   ]
  },
  {
   "cell_type": "code",
   "execution_count": 25,
   "id": "17ea293e",
   "metadata": {},
   "outputs": [
    {
     "name": "stdout",
     "output_type": "stream",
     "text": [
      "1\n",
      "3\n"
     ]
    }
   ],
   "source": [
    "\n",
    "# Accessing elements of a tuple\n",
    "print(my_tuple[0])  # Output: 1\n",
    "print(my_tuple[2])  # Output: 3\n"
   ]
  },
  {
   "cell_type": "code",
   "execution_count": 27,
   "id": "b65dbdec",
   "metadata": {},
   "outputs": [
    {
     "name": "stdout",
     "output_type": "stream",
     "text": [
      "1\n",
      "2\n",
      "3\n",
      "4\n",
      "5\n"
     ]
    }
   ],
   "source": [
    "\n",
    "# Iterating over a tuple\n",
    "for item in my_tuple:\n",
    "    print(item)\n",
    "\n"
   ]
  },
  {
   "cell_type": "markdown",
   "id": "cc1d6189",
   "metadata": {},
   "source": [
    "# Set\n",
    "\n",
    "* Sets are unordered collections of unique elements. They automatically eliminate duplicate values. \n",
    "\n",
    "* Sets work similarly to mathematical sets.\n",
    "\n",
    "* They are useful when you want to store a collection of items and quickly check for membership or eliminate duplicates.\n",
    "\n",
    "* Note that since sets are unordered, the order of elements in a set may vary when printed."
   ]
  },
  {
   "cell_type": "code",
   "execution_count": 29,
   "id": "927ce80f",
   "metadata": {},
   "outputs": [],
   "source": [
    "# Creating a set\n",
    "my_set = {1, 2, 3, 4, 5}\n"
   ]
  },
  {
   "cell_type": "code",
   "execution_count": 30,
   "id": "539637ac",
   "metadata": {},
   "outputs": [],
   "source": [
    "\n",
    "# Adding elements to a set\n",
    "my_set.add(6)\n",
    "my_set.add(7)\n"
   ]
  },
  {
   "cell_type": "code",
   "execution_count": 31,
   "id": "9c542b6e",
   "metadata": {},
   "outputs": [],
   "source": [
    "\n",
    "# Removing elements from a set\n",
    "my_set.remove(3)\n"
   ]
  },
  {
   "cell_type": "code",
   "execution_count": 32,
   "id": "1d1ab1a2",
   "metadata": {},
   "outputs": [
    {
     "name": "stdout",
     "output_type": "stream",
     "text": [
      "True\n",
      "False\n"
     ]
    }
   ],
   "source": [
    "\n",
    "# Checking membership in a set\n",
    "print(2 in my_set)  # Output: True\n",
    "print(8 in my_set)  # Output: False\n"
   ]
  },
  {
   "cell_type": "code",
   "execution_count": 33,
   "id": "88c19fcd",
   "metadata": {},
   "outputs": [
    {
     "name": "stdout",
     "output_type": "stream",
     "text": [
      "1\n",
      "2\n",
      "4\n",
      "5\n",
      "6\n",
      "7\n"
     ]
    }
   ],
   "source": [
    "\n",
    "# Looping through a set\n",
    "for item in my_set:\n",
    "    print(item)\n"
   ]
  },
  {
   "cell_type": "markdown",
   "id": "3f19d2a2",
   "metadata": {},
   "source": [
    "# Dictionary \n",
    "\n",
    "* Dictionaries are - as their name suggests - key-value pairs.\n",
    "* Typical use of dictionaries is storing information of people in an organization.\n",
    "* They are useful for organizing and retrieving data based on unique keys. \n",
    "* The keys in a dictionary are unique and immutable, while the values can be of any data type. \n",
    "* Dictionaries provide efficient lookups and are commonly used for tasks that involve mapping, data organization, and retrieval.\n",
    "\n"
   ]
  },
  {
   "cell_type": "code",
   "execution_count": 35,
   "id": "e0ba929a",
   "metadata": {},
   "outputs": [],
   "source": [
    "# Creating a dictionary\n",
    "my_dict = {\"name\": \"John\", \"age\": 30, \"city\": \"New York\"}\n"
   ]
  },
  {
   "cell_type": "code",
   "execution_count": 36,
   "id": "e990ae53",
   "metadata": {},
   "outputs": [
    {
     "name": "stdout",
     "output_type": "stream",
     "text": [
      "John\n",
      "30\n"
     ]
    }
   ],
   "source": [
    "\n",
    "# Accessing values in a dictionary\n",
    "print(my_dict[\"name\"])  # Output: John\n",
    "print(my_dict[\"age\"])   # Output: 30\n"
   ]
  },
  {
   "cell_type": "code",
   "execution_count": 37,
   "id": "d24b4f69",
   "metadata": {},
   "outputs": [
    {
     "name": "stdout",
     "output_type": "stream",
     "text": [
      "{'name': 'John', 'age': 35, 'city': 'New York'}\n"
     ]
    }
   ],
   "source": [
    "\n",
    "# Modifying values in a dictionary\n",
    "my_dict[\"age\"] = 35\n",
    "print(my_dict)  # Output: {\"name\": \"John\", \"age\": 35, \"city\": \"New York\"}\n"
   ]
  },
  {
   "cell_type": "code",
   "execution_count": 38,
   "id": "1253ca58",
   "metadata": {},
   "outputs": [
    {
     "name": "stdout",
     "output_type": "stream",
     "text": [
      "{'name': 'John', 'age': 35, 'city': 'New York', 'occupation': 'Engineer'}\n"
     ]
    }
   ],
   "source": [
    "\n",
    "# Adding new key-value pairs to a dictionary\n",
    "my_dict[\"occupation\"] = \"Engineer\"\n",
    "print(my_dict)  # Output: {\"name\": \"John\", \"age\": 35, \"city\": \"New York\", \"occupation\": \"Engineer\"}\n"
   ]
  },
  {
   "cell_type": "code",
   "execution_count": 39,
   "id": "c6ca0a43",
   "metadata": {},
   "outputs": [
    {
     "name": "stdout",
     "output_type": "stream",
     "text": [
      "{'name': 'John', 'age': 35, 'occupation': 'Engineer'}\n"
     ]
    }
   ],
   "source": [
    "\n",
    "# Removing key-value pairs from a dictionary\n",
    "del my_dict[\"city\"]\n",
    "print(my_dict)  # Output: {\"name\": \"John\", \"age\": 35, \"occupation\": \"Engineer\"}\n"
   ]
  },
  {
   "cell_type": "code",
   "execution_count": 41,
   "id": "01e95216",
   "metadata": {},
   "outputs": [
    {
     "name": "stdout",
     "output_type": "stream",
     "text": [
      "True\n",
      "False\n"
     ]
    }
   ],
   "source": [
    "\n",
    "# Checking if a key exists in a dictionary\n",
    "print(\"name\" in my_dict)  # Output: True\n",
    "print(\"city\" in my_dict)  # Output: False\n"
   ]
  },
  {
   "cell_type": "code",
   "execution_count": 42,
   "id": "ec0fdcdc",
   "metadata": {},
   "outputs": [
    {
     "name": "stdout",
     "output_type": "stream",
     "text": [
      "name : John\n",
      "age : 35\n",
      "occupation : Engineer\n"
     ]
    }
   ],
   "source": [
    "\n",
    "# Looping through a dictionary\n",
    "for key, value in my_dict.items():\n",
    "    print(key, \":\", value)\n"
   ]
  },
  {
   "cell_type": "code",
   "execution_count": null,
   "id": "754c06c3",
   "metadata": {},
   "outputs": [],
   "source": []
  }
 ],
 "metadata": {
  "kernelspec": {
   "display_name": "Python 3 (ipykernel)",
   "language": "python",
   "name": "python3"
  },
  "language_info": {
   "codemirror_mode": {
    "name": "ipython",
    "version": 3
   },
   "file_extension": ".py",
   "mimetype": "text/x-python",
   "name": "python",
   "nbconvert_exporter": "python",
   "pygments_lexer": "ipython3",
   "version": "3.10.10"
  }
 },
 "nbformat": 4,
 "nbformat_minor": 5
}
