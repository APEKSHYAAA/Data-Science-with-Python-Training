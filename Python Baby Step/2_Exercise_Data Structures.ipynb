{
 "cells": [
  {
   "cell_type": "markdown",
   "id": "76dcb21e",
   "metadata": {},
   "source": [
    "# Exercise: Student Information\n",
    "\n",
    "Create a dictionary called student that represents a student's information. The dictionary should have the following \n",
    "\n",
    "* keys: \"name\", \"age\", \"grade\", \"subjects\", and \"marks\".\n",
    "* \"name\": The name of the student (string).\n",
    "* \"age\": The age of the student (integer).\n",
    "* \"grade\": The grade of the student (string).\n",
    "* \"subjects\": A set of subjects the student is enrolled in (set).\n",
    "* \"marks\": A list of marks obtained by the student in each subject (list)."
   ]
  },
  {
   "cell_type": "markdown",
   "id": "aaa96b00",
   "metadata": {},
   "source": [
    "1. Prompt the user to enter the student's name, age, and grade. Store the user input in the corresponding keys of the student dictionary.\n",
    "\n",
    "2. Prompt the user to enter the subjects the student is enrolled in, separated by commas. Convert the input into a list of subjects and store it in the \"subjects\" key of the student dictionary.\n",
    "\n",
    "3. Prompt the user to enter the marks obtained by the student in each subject, separated by commas. Convert the input into a list of integers and store it in the \"marks\" key of the student dictionary.\n",
    "\n",
    "4. Calculate and display the average marks obtained by the student.\n",
    "\n",
    "5. Check if the student has passed or failed. Consider a passing grade if the average marks are 50 or above. Display an appropriate message based on the result."
   ]
  },
  {
   "cell_type": "code",
   "execution_count": null,
   "id": "112617af",
   "metadata": {},
   "outputs": [],
   "source": [
    "\n"
   ]
  },
  {
   "cell_type": "code",
   "execution_count": null,
   "id": "d511d58c",
   "metadata": {},
   "outputs": [],
   "source": []
  },
  {
   "cell_type": "code",
   "execution_count": null,
   "id": "ee942d57",
   "metadata": {},
   "outputs": [],
   "source": []
  },
  {
   "cell_type": "code",
   "execution_count": null,
   "id": "d773fa4d",
   "metadata": {},
   "outputs": [],
   "source": []
  },
  {
   "cell_type": "code",
   "execution_count": null,
   "id": "44dd5c06",
   "metadata": {},
   "outputs": [],
   "source": []
  },
  {
   "cell_type": "code",
   "execution_count": null,
   "id": "98d9abe0",
   "metadata": {},
   "outputs": [],
   "source": []
  },
  {
   "cell_type": "code",
   "execution_count": null,
   "id": "ae7721f5",
   "metadata": {},
   "outputs": [],
   "source": [
    "# Solution\n",
    "\n",
    "# Create an empty dictionary to store student information\n",
    "student = {}\n",
    "\n",
    "# Prompt the user to enter student's name, age, and grade\n",
    "student['name'] = input(\"Enter student's name: \")\n",
    "student['age'] = int(input(\"Enter student's age: \"))\n",
    "student['grade'] = input(\"Enter student's grade: \")\n",
    "\n",
    "# Prompt the user to enter subjects separated by commas\n",
    "subjects_input = input(\"Enter subjects (separated by commas): \")\n",
    "student['subjects'] = set(subjects_input.split(\",\"))\n",
    "\n",
    "# Prompt the user to enter marks separated by commas\n",
    "marks_input = input(\"Enter marks (separated by commas): \")\n",
    "student['marks'] = [int(mark) for mark in marks_input.split(\",\")]\n",
    "\n",
    "# Calculate the average marks\n",
    "average_marks = sum(student['marks']) / len(student['marks'])\n",
    "\n",
    "# Display the average marks\n",
    "print(\"\\nAverage marks:\", round(average_marks, 2))\n",
    "\n",
    "# Check if the student has passed or failed\n",
    "if average_marks >= 50:\n",
    "    print(student['name'], \"has passed.\")\n",
    "else:\n",
    "    print(student['name'], \"has failed.\")\n",
    "\n",
    "\n"
   ]
  },
  {
   "cell_type": "code",
   "execution_count": null,
   "id": "ff0d34c7",
   "metadata": {},
   "outputs": [],
   "source": []
  }
 ],
 "metadata": {
  "kernelspec": {
   "display_name": "Python 3 (ipykernel)",
   "language": "python",
   "name": "python3"
  },
  "language_info": {
   "codemirror_mode": {
    "name": "ipython",
    "version": 3
   },
   "file_extension": ".py",
   "mimetype": "text/x-python",
   "name": "python",
   "nbconvert_exporter": "python",
   "pygments_lexer": "ipython3",
   "version": "3.10.10"
  }
 },
 "nbformat": 4,
 "nbformat_minor": 5
}
