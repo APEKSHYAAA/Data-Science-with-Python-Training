{
 "cells": [
  {
   "cell_type": "markdown",
   "id": "23414632",
   "metadata": {},
   "source": [
    "We completed Intro, Variables and Data structure, now lets learn the control structure in Python"
   ]
  },
  {
   "cell_type": "markdown",
   "id": "72526bcc",
   "metadata": {},
   "source": [
    "# Control structures\n",
    "\n",
    "* Control structures are programming constructs that allow you to control the flow of execution in a program.\n",
    "\n",
    "* They determine how different parts of the code are executed based on certain conditions or criteria. "
   ]
  },
  {
   "cell_type": "markdown",
   "id": "f9b950b8",
   "metadata": {},
   "source": [
    "## If statement:\n",
    "\n",
    "* The if statement is used to execute a block of code only if a specific condition is true. \n",
    "\n",
    "* It is typically used for decision-making in programs."
   ]
  },
  {
   "cell_type": "code",
   "execution_count": 1,
   "id": "ec98efb0",
   "metadata": {},
   "outputs": [],
   "source": [
    "# Sample if statement\n",
    "\n",
    "# Define a variable\n",
    "age = 25"
   ]
  },
  {
   "cell_type": "code",
   "execution_count": 2,
   "id": "660a2b0c",
   "metadata": {},
   "outputs": [
    {
     "name": "stdout",
     "output_type": "stream",
     "text": [
      "You are eligible to vote!\n",
      "Please proceed to the voting booth.\n",
      "Thank you for participating in the election.\n"
     ]
    }
   ],
   "source": [
    "\n",
    "# Check if the age is greater than or equal to 18\n",
    "if age >= 18:\n",
    "    print(\"You are eligible to vote!\")\n",
    "    print(\"Please proceed to the voting booth.\")\n",
    "\n",
    "# The code below the if statement is not indented, so it is outside the if block\n",
    "print(\"Thank you for participating in the election.\")\n"
   ]
  },
  {
   "cell_type": "markdown",
   "id": "d4e784ba",
   "metadata": {},
   "source": [
    "Note: The indentation (4 spaces or a tab) is crucial in Python to define the code block associated with the if statement.\n",
    "\n",
    "\n",
    "\n"
   ]
  },
  {
   "cell_type": "markdown",
   "id": "125f68d3",
   "metadata": {},
   "source": [
    "### if-elseif\n",
    "\n"
   ]
  },
  {
   "cell_type": "code",
   "execution_count": 3,
   "id": "04d25d57",
   "metadata": {},
   "outputs": [
    {
     "name": "stdout",
     "output_type": "stream",
     "text": [
      "Good job! Your grade is B.\n",
      "End of grading.\n"
     ]
    }
   ],
   "source": [
    "# Sample if-elif-else statement\n",
    "\n",
    "# Define a variable\n",
    "grade = 85\n",
    "\n",
    "# Check the grade and provide corresponding remarks\n",
    "if grade >= 90:\n",
    "    print(\"Excellent! Your grade is A.\")\n",
    "elif grade >= 80:\n",
    "    print(\"Good job! Your grade is B.\")\n",
    "elif grade >= 70:\n",
    "    print(\"You passed! Your grade is C.\")\n",
    "elif grade >= 60:\n",
    "    print(\"You need to improve. Your grade is D.\")\n",
    "else:\n",
    "    print(\"Sorry, you failed. Your grade is F.\")\n",
    "\n",
    "# The code below the if-elif-else statement is not indented, so it is outside the if block\n",
    "print(\"End of grading.\")\n"
   ]
  },
  {
   "cell_type": "markdown",
   "id": "2c4e0ead",
   "metadata": {},
   "source": [
    "# For Loop \n",
    "* A for loop is a control flow statement in Python that allows you to iterate over a sequence of elements or perform a specific set of operations a predetermined number of times. \n",
    "\n",
    "* It is used to repeat a block of code for each item in the sequence or for a specified range of values.\n"
   ]
  },
  {
   "cell_type": "code",
   "execution_count": 4,
   "id": "8fdfb6a8",
   "metadata": {},
   "outputs": [
    {
     "name": "stdout",
     "output_type": "stream",
     "text": [
      "1\n",
      "2\n",
      "3\n",
      "4\n",
      "5\n",
      "P\n",
      "y\n",
      "t\n",
      "h\n",
      "o\n",
      "n\n",
      "1\n",
      "2\n",
      "3\n",
      "4\n",
      "5\n",
      "0\n",
      "2\n",
      "4\n",
      "6\n",
      "8\n"
     ]
    }
   ],
   "source": [
    "# Sample for loop\n",
    "\n",
    "# Iterate over a list of numbers\n",
    "numbers = [1, 2, 3, 4, 5]\n",
    "\n",
    "# Print each number in the list\n",
    "for num in numbers:\n",
    "    print(num)\n",
    "\n",
    "# Iterate over a string\n",
    "word = \"Python\"\n",
    "\n",
    "# Print each character in the string\n",
    "for char in word:\n",
    "    print(char)\n",
    "\n",
    "# Iterate over a range of numbers\n",
    "for i in range(1, 6):\n",
    "    print(i)\n",
    "\n",
    "# Iterate over a range with a step\n",
    "for i in range(0, 10, 2):\n",
    "    print(i)\n"
   ]
  },
  {
   "cell_type": "markdown",
   "id": "cff31de2",
   "metadata": {},
   "source": [
    "1. Iterating over a list: The for loop iterates over each element in the numbers list and prints it.\n",
    "\n",
    "2. Iterating over a string: The for loop iterates over each character in the word string and prints it.\n",
    "\n",
    "3. Iterating over a range of numbers: The for loop iterates over the range from 1 to 5 (excluding 5) and prints each number.\n",
    "\n",
    "4. Iterating over a range with a step: The for loop iterates over the range from 0 to 10 (excluding 10) with a step of 2 and prints each number.\n",
    "\n",
    "5. In each case, the variable (num, char, or i) takes on the value of the current element in the iteration, and the code block indented under the for loop is executed for each iteration.\n",
    "\n",
    "\n",
    "\n"
   ]
  },
  {
   "cell_type": "markdown",
   "id": "62b67f01",
   "metadata": {},
   "source": [
    "# While Loop\n",
    "\n",
    "* While loops are useful when the number of iterations is not known beforehand and depends on a certain condition.\n",
    "\n",
    "* They allow you to repeat a block of code until the condition becomes false.\n",
    "\n"
   ]
  },
  {
   "cell_type": "code",
   "execution_count": 6,
   "id": "c244b40a",
   "metadata": {},
   "outputs": [
    {
     "name": "stdout",
     "output_type": "stream",
     "text": [
      "Count: 0\n",
      "Count: 1\n",
      "Count: 2\n",
      "Count: 3\n",
      "Count: 4\n",
      "Loop finished.\n"
     ]
    }
   ],
   "source": [
    "# Sample while loop\n",
    "\n",
    "# Initialize a counter\n",
    "count = 0\n",
    "\n",
    "# Execute the loop while the counter is less than 5\n",
    "while count < 5:\n",
    "    print(\"Count:\", count)\n",
    "    count += 1\n",
    "\n",
    "print(\"Loop finished.\")\n"
   ]
  },
  {
   "cell_type": "markdown",
   "id": "8b3190bb",
   "metadata": {},
   "source": [
    "In this example, we have a while loop that executes as long as a certain condition is true. Here's how it works:\n",
    "\n",
    "1. We initialize a counter variable count to 0.\n",
    "2. The while loop checks the condition count < 5. As long as the condition is true, the code block indented under the while loop is executed.\n",
    "3. Inside the code block, we print the value of the count variable and then increment it by 1 using the count += 1 statement.\n",
    "4. After each iteration, the condition is checked again. If it is still true, the loop continues to execute. This process repeats until the condition becomes false.\n",
    "5. Once the condition becomes false (i.e., count is no longer less than 5), the while loop exits, and the program continues with the code outside the loop.\n",
    "\n",
    "\n",
    "In this case, the loop will iterate 5 times because the initial value of count is 0, and it gets incremented by 1 in each iteration. The output will be:"
   ]
  },
  {
   "cell_type": "markdown",
   "id": "c870695f",
   "metadata": {},
   "source": [
    "# Break and Continue\n",
    "\n",
    "The break and continue statements provide control over the flow of a loop, allowing you to terminate the loop prematurely or skip certain iterations based on specific conditions. They are powerful tools for fine-tuning the behavior of loops in your code.\n",
    "\n",
    "## Break\n",
    "* The break statement is used to exit or terminate a loop prematurely, even if the loop condition is still true.\n",
    "\n",
    "* When a break statement is encountered inside a loop, the loop is immediately terminated, and the program execution moves to the next statement after the loop.\n",
    "\n",
    "* It is often used when a specific condition is met, and you want to stop the loop execution.\n",
    "\n",
    "* The break statement is commonly used with an if condition inside a loop to check for a certain condition and exit the loop if that condition is met."
   ]
  },
  {
   "cell_type": "code",
   "execution_count": 7,
   "id": "c56ebbd9",
   "metadata": {},
   "outputs": [
    {
     "name": "stdout",
     "output_type": "stream",
     "text": [
      "1\n",
      "2\n"
     ]
    }
   ],
   "source": [
    "for i in range(1, 6):\n",
    "    if i == 3:\n",
    "        break\n",
    "    print(i)\n"
   ]
  },
  {
   "cell_type": "markdown",
   "id": "1c7beee3",
   "metadata": {},
   "source": [
    "In this example, the loop iterates from 1 to 5, but when i becomes 3, the break statement is encountered, and the loop is terminated, resulting in only the numbers 1 and 2 being printed."
   ]
  },
  {
   "cell_type": "markdown",
   "id": "91f8ccda",
   "metadata": {},
   "source": [
    "## Continue statement\n",
    "\n",
    "* The continue statement is used to skip the rest of the code block within a loop for the current iteration and move to the next iteration.\n",
    "\n",
    "* When a continue statement is encountered inside a loop, it jumps to the next iteration without executing any code below the continue statement for the current iteration.\n",
    "\n",
    "* It is useful when you want to skip certain iterations based on a condition.\n",
    "\n",
    "* The continue statement is commonly used with an if condition inside a loop to check for a certain condition and skip the remaining code block for that particular iteration."
   ]
  },
  {
   "cell_type": "code",
   "execution_count": 9,
   "id": "b7be8cb8",
   "metadata": {},
   "outputs": [
    {
     "name": "stdout",
     "output_type": "stream",
     "text": [
      "1\n",
      "2\n",
      "4\n",
      "5\n"
     ]
    }
   ],
   "source": [
    "for i in range(1, 6):\n",
    "    if i == 3:\n",
    "        continue\n",
    "    print(i)"
   ]
  },
  {
   "cell_type": "markdown",
   "id": "070cd2d7",
   "metadata": {},
   "source": [
    "In this example, when i is 3, the continue statement is encountered. It skips the print(i) statement and moves to the next iteration. As a result, the number 3 is skipped in the output."
   ]
  },
  {
   "cell_type": "markdown",
   "id": "30d34587",
   "metadata": {},
   "source": [
    "Now, lets doe exercise\n"
   ]
  },
  {
   "cell_type": "code",
   "execution_count": null,
   "id": "c895b113",
   "metadata": {},
   "outputs": [],
   "source": []
  }
 ],
 "metadata": {
  "kernelspec": {
   "display_name": "Python 3 (ipykernel)",
   "language": "python",
   "name": "python3"
  },
  "language_info": {
   "codemirror_mode": {
    "name": "ipython",
    "version": 3
   },
   "file_extension": ".py",
   "mimetype": "text/x-python",
   "name": "python",
   "nbconvert_exporter": "python",
   "pygments_lexer": "ipython3",
   "version": "3.10.10"
  }
 },
 "nbformat": 4,
 "nbformat_minor": 5
}
