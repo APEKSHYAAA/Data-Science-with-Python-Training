{
 "cells": [
  {
   "cell_type": "markdown",
   "id": "6b3df9e6",
   "metadata": {},
   "source": [
    "# Exercise: Grade Calculator\n",
    "\n",
    "Write a program that asks the user to enter the marks for three subjects: Math, Science, and English. The program should calculate the average mark and determine the corresponding grade based on the following grading scale:\n",
    "\n",
    "- Average Mark >= 90: Grade A\n",
    "- Average Mark >= 80: Grade B\n",
    "- Average Mark >= 70: Grade C\n",
    "- Average Mark >= 60: Grade D\n",
    "- Average Mark < 60: Grade F\n",
    "\n",
    "The program should then display the average mark and the corresponding grade to the user."
   ]
  },
  {
   "cell_type": "code",
   "execution_count": null,
   "id": "598006c7",
   "metadata": {},
   "outputs": [],
   "source": []
  },
  {
   "cell_type": "code",
   "execution_count": null,
   "id": "c4d48e17",
   "metadata": {},
   "outputs": [],
   "source": []
  },
  {
   "cell_type": "code",
   "execution_count": null,
   "id": "4172f3d5",
   "metadata": {},
   "outputs": [],
   "source": []
  },
  {
   "cell_type": "code",
   "execution_count": null,
   "id": "af9ab63f",
   "metadata": {},
   "outputs": [],
   "source": []
  },
  {
   "cell_type": "code",
   "execution_count": null,
   "id": "37a7c9f8",
   "metadata": {},
   "outputs": [],
   "source": []
  },
  {
   "cell_type": "code",
   "execution_count": null,
   "id": "d2604023",
   "metadata": {},
   "outputs": [],
   "source": []
  },
  {
   "cell_type": "code",
   "execution_count": 3,
   "id": "25aabe7d",
   "metadata": {},
   "outputs": [
    {
     "name": "stdout",
     "output_type": "stream",
     "text": [
      "Enter the mark for Math: 23\n",
      "Enter the mark for Science: 23\n",
      "Enter the mark for English: 2\n",
      "Average Mark: 16.0\n",
      "Grade: F\n"
     ]
    }
   ],
   "source": [
    "# Solutions\n",
    "\n",
    "# Grade Calculator\n",
    "\n",
    "# Input marks for Math, Science, and English\n",
    "math_mark = int(input(\"Enter the mark for Math: \"))\n",
    "science_mark = int(input(\"Enter the mark for Science: \"))\n",
    "english_mark = int(input(\"Enter the mark for English: \"))\n",
    "\n",
    "# Calculate the average mark\n",
    "average_mark = (math_mark + science_mark + english_mark) / 3\n",
    "\n",
    "# Determine the grade based on the average mark\n",
    "if average_mark >= 90:\n",
    "    grade = \"A\"\n",
    "elif average_mark >= 80:\n",
    "    grade = \"B\"\n",
    "elif average_mark >= 70:\n",
    "    grade = \"C\"\n",
    "elif average_mark >= 60:\n",
    "    grade = \"D\"\n",
    "else:\n",
    "    grade = \"F\"\n",
    "\n",
    "# Display the average mark and the grade\n",
    "print(\"Average Mark:\", average_mark)\n",
    "print(\"Grade:\", grade)\n"
   ]
  }
 ],
 "metadata": {
  "kernelspec": {
   "display_name": "Python 3 (ipykernel)",
   "language": "python",
   "name": "python3"
  },
  "language_info": {
   "codemirror_mode": {
    "name": "ipython",
    "version": 3
   },
   "file_extension": ".py",
   "mimetype": "text/x-python",
   "name": "python",
   "nbconvert_exporter": "python",
   "pygments_lexer": "ipython3",
   "version": "3.10.10"
  }
 },
 "nbformat": 4,
 "nbformat_minor": 5
}
