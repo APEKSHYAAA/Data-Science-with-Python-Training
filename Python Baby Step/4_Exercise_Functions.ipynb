{
 "cells": [
  {
   "cell_type": "markdown",
   "id": "99b724a9",
   "metadata": {},
   "source": [
    "# Exercise: Word Counter\n",
    "\n",
    "Write a Python program that prompts the user to enter a sentence. The program should then count the number of words in the sentence and display the result.\n",
    "\n",
    "Here's a step-by-step guide to solving the exercise:\n",
    "\n",
    "1. Define a function called count_words that takes a sentence as input.\n",
    "2. Inside the function, split the sentence into a list of words using the split() method.\n",
    "3. Use the len() function to count the number of words in the list.\n",
    "4. Return the count of words.\n",
    "5. Prompt the user to enter a sentence in the main program.\n",
    "6. Call the count_words function with the user's sentence as the argument.\n",
    "7. Print the result, which is the count of words in the sentence."
   ]
  },
  {
   "cell_type": "code",
   "execution_count": null,
   "id": "3ca52861",
   "metadata": {},
   "outputs": [],
   "source": []
  },
  {
   "cell_type": "code",
   "execution_count": null,
   "id": "d5ba03be",
   "metadata": {},
   "outputs": [],
   "source": []
  },
  {
   "cell_type": "code",
   "execution_count": null,
   "id": "86c647a0",
   "metadata": {},
   "outputs": [],
   "source": []
  },
  {
   "cell_type": "code",
   "execution_count": null,
   "id": "8c4d6b01",
   "metadata": {},
   "outputs": [],
   "source": []
  },
  {
   "cell_type": "code",
   "execution_count": null,
   "id": "ce7d1d60",
   "metadata": {},
   "outputs": [],
   "source": []
  },
  {
   "cell_type": "code",
   "execution_count": null,
   "id": "621579c8",
   "metadata": {},
   "outputs": [],
   "source": []
  },
  {
   "cell_type": "code",
   "execution_count": 2,
   "id": "01f80a69",
   "metadata": {},
   "outputs": [
    {
     "name": "stdout",
     "output_type": "stream",
     "text": [
      "Enter a sentence: Mala is great boy\n",
      "The number of words in the sentence is: 4\n"
     ]
    }
   ],
   "source": [
    "# Solution\n",
    "def count_words(sentence):\n",
    "    words = sentence.split()\n",
    "    return len(words)\n",
    "\n",
    "user_sentence = input(\"Enter a sentence: \")\n",
    "word_count = count_words(user_sentence)\n",
    "print(\"The number of words in the sentence is:\", word_count)\n"
   ]
  },
  {
   "cell_type": "code",
   "execution_count": null,
   "id": "21a321a4",
   "metadata": {},
   "outputs": [],
   "source": []
  }
 ],
 "metadata": {
  "kernelspec": {
   "display_name": "Python 3 (ipykernel)",
   "language": "python",
   "name": "python3"
  },
  "language_info": {
   "codemirror_mode": {
    "name": "ipython",
    "version": 3
   },
   "file_extension": ".py",
   "mimetype": "text/x-python",
   "name": "python",
   "nbconvert_exporter": "python",
   "pygments_lexer": "ipython3",
   "version": "3.10.10"
  }
 },
 "nbformat": 4,
 "nbformat_minor": 5
}
