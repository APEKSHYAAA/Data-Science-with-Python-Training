{
 "cells": [
  {
   "cell_type": "markdown",
   "id": "3c81961c",
   "metadata": {},
   "source": [
    "We completed Intro, Variables, Data structure, Functions now lets learn the how we read and write data in Python"
   ]
  },
  {
   "cell_type": "markdown",
   "id": "2388a778",
   "metadata": {},
   "source": [
    "# Input Output\n",
    "\n",
    "* I/O (Input/Output) in Python refers to the process of interacting with external sources of data, such as reading input from the user or files, and writing output to the console or files. \n",
    "\n",
    "* Python provides several built-in functions and modules to perform various types of I/O operations. "
   ]
  },
  {
   "cell_type": "markdown",
   "id": "f0110e5d",
   "metadata": {},
   "source": [
    "## Standard Input and Output:\n",
    "\n",
    "* input(): Reads input from the user as a string.\n",
    "* print(): Outputs text or variables to the console."
   ]
  },
  {
   "cell_type": "code",
   "execution_count": 3,
   "id": "f7b27046",
   "metadata": {},
   "outputs": [
    {
     "name": "stdout",
     "output_type": "stream",
     "text": [
      "Enter your name: Mala\n",
      "Hello, Mala!\n"
     ]
    }
   ],
   "source": [
    "name = input(\"Enter your name: \")\n",
    "print(\"Hello, \" + name + \"!\") \n"
   ]
  },
  {
   "cell_type": "markdown",
   "id": "eb40bfdd",
   "metadata": {},
   "source": [
    "## User Input"
   ]
  },
  {
   "cell_type": "code",
   "execution_count": 16,
   "id": "384dcd8a",
   "metadata": {},
   "outputs": [
    {
     "name": "stdout",
     "output_type": "stream",
     "text": [
      "What is your trainer name? mala\n",
      "Your trainer name is mala . \n",
      "Waaa\n"
     ]
    }
   ],
   "source": [
    "prompt = 'What is your trainer name? '\n",
    "answer = input(prompt)\n",
    "print('Your trainer name is', answer,'.', \"\\nWaaa\")"
   ]
  },
  {
   "cell_type": "markdown",
   "id": "1f84ad62",
   "metadata": {},
   "source": [
    "## File I/O:\n",
    "\n",
    "* open(): Opens a file and returns a file object.\n",
    "* read(), readline(), readlines(): Reads data from a file.\n",
    "* write(), writelines(): Writes data to a file.\n",
    "* close(): Closes a file.\n"
   ]
  },
  {
   "cell_type": "code",
   "execution_count": 6,
   "id": "3a554ec7",
   "metadata": {},
   "outputs": [
    {
     "name": "stdout",
     "output_type": "stream",
     "text": [
      "﻿Sample Document\n",
      "\n",
      "Fusce convallis metus id felis luctus adipiscing. Pellentesque egestas, neque sit amet convallis pulvinar, justo nulla eleifend augue, ac auctor orci leo non est. Fusce vel dui. Sed augue ipsum, egestas nec, vestibulum et, malesuada adipiscing, dui. Phasellus viverra nulla ut metus varius laoreet.\n",
      "\n",
      "\n",
      "Nulla facilisi. Phasellus accumsan cursus velit. Curabitur at lacus ac velit ornare lobortis. Maecenas vestibulum mollis diam. Phasellus blandit leo ut odio.\n",
      "\n",
      "\n",
      "Praesent ac massa at ligula laoreet iaculis. Pellentesque dapibus hendrerit tortor. Nam commodo suscipit quam. Sed a libero. Nullam nulla eros, ultricies sit amet, nonummy id, imperdiet feugiat, pede.\n",
      "\n",
      "\n",
      "Pellentesque egestas, neque sit amet convallis pulvinar, justo nulla eleifend augue, ac auctor orci leo non est. Curabitur ullamcorper ultricies nisi. Pellentesque posuere. Fusce fermentum. Morbi vestibulum volutpat enim.\n",
      "\n",
      "\n",
      "In enim justo, rhoncus ut, imperdiet a, venenatis vitae, justo. Curabitur a felis in nunc fringilla tristique. Donec mollis hendrerit risus. Vestibulum turpis sem, aliquet eget, lobortis pellentesque, rutrum eu, nisl. Proin magna.\n"
     ]
    }
   ],
   "source": [
    "# Reading\n",
    "file = open(\"sample.txt\", \"r\")\n",
    "content = file.read()\n",
    "print(content)\n",
    "file.close()\n"
   ]
  },
  {
   "cell_type": "markdown",
   "id": "d0b1e1b0",
   "metadata": {},
   "source": [
    "### Writing to File"
   ]
  },
  {
   "cell_type": "code",
   "execution_count": 7,
   "id": "6db95422",
   "metadata": {},
   "outputs": [],
   "source": [
    "# Example - Writing to a file:\n",
    "file = open(\"output.txt\", \"w\")\n",
    "file.write(\"This is some content.\")\n",
    "file.close()"
   ]
  },
  {
   "cell_type": "markdown",
   "id": "11b88b0f",
   "metadata": {},
   "source": [
    "With this you would have new file created in your system called output.txt"
   ]
  },
  {
   "cell_type": "markdown",
   "id": "d7eedb19",
   "metadata": {},
   "source": [
    "### Working with Files using with Statement:\n",
    "\n",
    "The with statement in Python is a more convenient way to open and work with files. It automatically takes care of closing the file, even if an exception occurs."
   ]
  },
  {
   "cell_type": "code",
   "execution_count": 9,
   "id": "6912ff4d",
   "metadata": {},
   "outputs": [
    {
     "name": "stdout",
     "output_type": "stream",
     "text": [
      "﻿Sample Document\n",
      "\n",
      "Fusce convallis metus id felis luctus adipiscing. Pellentesque egestas, neque sit amet convallis pulvinar, justo nulla eleifend augue, ac auctor orci leo non est. Fusce vel dui. Sed augue ipsum, egestas nec, vestibulum et, malesuada adipiscing, dui. Phasellus viverra nulla ut metus varius laoreet.\n",
      "\n",
      "\n",
      "Nulla facilisi. Phasellus accumsan cursus velit. Curabitur at lacus ac velit ornare lobortis. Maecenas vestibulum mollis diam. Phasellus blandit leo ut odio.\n",
      "\n",
      "\n",
      "Praesent ac massa at ligula laoreet iaculis. Pellentesque dapibus hendrerit tortor. Nam commodo suscipit quam. Sed a libero. Nullam nulla eros, ultricies sit amet, nonummy id, imperdiet feugiat, pede.\n",
      "\n",
      "\n",
      "Pellentesque egestas, neque sit amet convallis pulvinar, justo nulla eleifend augue, ac auctor orci leo non est. Curabitur ullamcorper ultricies nisi. Pellentesque posuere. Fusce fermentum. Morbi vestibulum volutpat enim.\n",
      "\n",
      "\n",
      "In enim justo, rhoncus ut, imperdiet a, venenatis vitae, justo. Curabitur a felis in nunc fringilla tristique. Donec mollis hendrerit risus. Vestibulum turpis sem, aliquet eget, lobortis pellentesque, rutrum eu, nisl. Proin magna.\n"
     ]
    }
   ],
   "source": [
    "with open(\"sample.txt\", \"r\") as file:\n",
    "    content = file.read()\n",
    "    print(content)"
   ]
  },
  {
   "cell_type": "markdown",
   "id": "bd7290f0",
   "metadata": {},
   "source": [
    "## Formatting Output\n",
    "\n",
    "It allows you to represent data in a specific format and combine it with text or other variables. \n",
    "\n",
    "Python offers various string formatting methods that provide flexibility and readability.\n",
    "\n",
    "Here are three commonly used string formatting methods:\n"
   ]
  },
  {
   "cell_type": "markdown",
   "id": "8fa048b9",
   "metadata": {},
   "source": [
    " #### The % Operator:\n",
    " \n",
    "The % operator allows you to format strings by using placeholders and providing values to substitute those placeholders.\n"
   ]
  },
  {
   "cell_type": "code",
   "execution_count": 20,
   "id": "6795aabb",
   "metadata": {},
   "outputs": [
    {
     "name": "stdout",
     "output_type": "stream",
     "text": [
      "My name is Alice and I am 25 years old.\n"
     ]
    }
   ],
   "source": [
    "name = \"Alice\"\n",
    "age = 25\n",
    "print(\"My name is %s and I am %d years old.\" % (name, age))\n"
   ]
  },
  {
   "cell_type": "markdown",
   "id": "2079f11f",
   "metadata": {},
   "source": [
    "In this example, %s is a placeholder for a string,\n",
    "\n",
    "and %d is a placeholder for an integer.\n",
    "\n",
    "The values for these placeholders are provided after the % operator in a tuple.\n"
   ]
  },
  {
   "cell_type": "markdown",
   "id": "4aafe03d",
   "metadata": {},
   "source": [
    "#### Using the str.format() Method\n",
    "\n",
    "The str.format() method allows you to format strings by using placeholders enclosed in curly braces {}. \n",
    "\n",
    "You can provide values to substitute these placeholders using the format() method."
   ]
  },
  {
   "cell_type": "code",
   "execution_count": 21,
   "id": "6db467f7",
   "metadata": {},
   "outputs": [
    {
     "name": "stdout",
     "output_type": "stream",
     "text": [
      "My name is Alice and I am 25 years old.\n"
     ]
    }
   ],
   "source": [
    "name = \"Alice\"\n",
    "age = 25\n",
    "print(\"My name is {} and I am {} years old.\".format(name, age))\n"
   ]
  },
  {
   "cell_type": "markdown",
   "id": "54f9036d",
   "metadata": {},
   "source": [
    "In this example, {} serves as a placeholder, and the values for these placeholders are provided in the format() method in the order they appear in the string."
   ]
  },
  {
   "cell_type": "markdown",
   "id": "2e09aad1",
   "metadata": {},
   "source": [
    "\n",
    "#### Using f-strings (formatted string literals):\n",
    "f-strings provide a concise and convenient way to format strings by prefixing the string with f and using curly braces {} to enclose expressions or variables to be evaluated and substituted.\n",
    "Example:"
   ]
  },
  {
   "cell_type": "code",
   "execution_count": 23,
   "id": "55b00b1d",
   "metadata": {},
   "outputs": [
    {
     "name": "stdout",
     "output_type": "stream",
     "text": [
      "My name is Alice and I am 25 years old.\n"
     ]
    }
   ],
   "source": [
    "name = \"Alice\"\n",
    "age = 25\n",
    "print(f\"My name is {name} and I am {age} years old.\")\n"
   ]
  },
  {
   "cell_type": "markdown",
   "id": "5a878c93",
   "metadata": {},
   "source": [
    "> Now exercise time"
   ]
  },
  {
   "cell_type": "code",
   "execution_count": null,
   "id": "8e56b131",
   "metadata": {},
   "outputs": [],
   "source": []
  }
 ],
 "metadata": {
  "kernelspec": {
   "display_name": "Python 3 (ipykernel)",
   "language": "python",
   "name": "python3"
  },
  "language_info": {
   "codemirror_mode": {
    "name": "ipython",
    "version": 3
   },
   "file_extension": ".py",
   "mimetype": "text/x-python",
   "name": "python",
   "nbconvert_exporter": "python",
   "pygments_lexer": "ipython3",
   "version": "3.10.10"
  }
 },
 "nbformat": 4,
 "nbformat_minor": 5
}
